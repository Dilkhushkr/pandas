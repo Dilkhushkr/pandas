{
 "cells": [
  {
   "cell_type": "code",
   "execution_count": 6,
   "id": "857fc4b5-e33d-406e-a6ba-ef4008c8bdc8",
   "metadata": {},
   "outputs": [],
   "source": [
    "# Create a pandas Series that contains the following data : 4,8,15,16,23,42 then print the series\n",
    "import pandas as pd"
   ]
  },
  {
   "cell_type": "code",
   "execution_count": 7,
   "id": "00b69d9f-4dcb-479f-b7f1-089f2a9f548d",
   "metadata": {},
   "outputs": [],
   "source": [
    "data = [4,8,15,16,23,42]"
   ]
  },
  {
   "cell_type": "code",
   "execution_count": 8,
   "id": "f9098109-8ce3-4985-a0b5-abcf3a6bb6b0",
   "metadata": {},
   "outputs": [],
   "source": [
    "series  = pd.Series(data)"
   ]
  },
  {
   "cell_type": "code",
   "execution_count": 9,
   "id": "3bbf72a5-a919-4f09-8a74-c810c8f95dd8",
   "metadata": {},
   "outputs": [
    {
     "name": "stdout",
     "output_type": "stream",
     "text": [
      "0     4\n",
      "1     8\n",
      "2    15\n",
      "3    16\n",
      "4    23\n",
      "5    42\n",
      "dtype: int64\n"
     ]
    }
   ],
   "source": [
    "print(series)"
   ]
  },
  {
   "cell_type": "code",
   "execution_count": 10,
   "id": "ff0c5a23-aef8-4748-90ac-1d21167e6001",
   "metadata": {},
   "outputs": [],
   "source": [
    "# Create a variable of list type contains 10 element in it , and apply pandas.Series function on the variable print it"
   ]
  },
  {
   "cell_type": "code",
   "execution_count": 11,
   "id": "1e2fe6ec-da69-425c-8fa0-9ae05a5c8ca0",
   "metadata": {},
   "outputs": [],
   "source": [
    "import pandas as pd "
   ]
  },
  {
   "cell_type": "code",
   "execution_count": 12,
   "id": "b5d3aa21-d085-46d7-b22d-001159661c31",
   "metadata": {},
   "outputs": [],
   "source": [
    "my_list = [1,2,3,4,5,6,7,8,9,10]"
   ]
  },
  {
   "cell_type": "code",
   "execution_count": 13,
   "id": "d6539da8-4206-4b46-add4-6cb6c0fa2a86",
   "metadata": {},
   "outputs": [],
   "source": [
    "series=pd.Series(my_list)"
   ]
  },
  {
   "cell_type": "code",
   "execution_count": 14,
   "id": "6f4524ab-8be7-4b7d-8659-900bde7097af",
   "metadata": {},
   "outputs": [
    {
     "name": "stdout",
     "output_type": "stream",
     "text": [
      "0     1\n",
      "1     2\n",
      "2     3\n",
      "3     4\n",
      "4     5\n",
      "5     6\n",
      "6     7\n",
      "7     8\n",
      "8     9\n",
      "9    10\n",
      "dtype: int64\n"
     ]
    }
   ],
   "source": [
    "print(series)"
   ]
  },
  {
   "cell_type": "code",
   "execution_count": 15,
   "id": "57af5013-ed74-4547-aaab-5a24f2bda84e",
   "metadata": {},
   "outputs": [],
   "source": [
    "# Create a pandas DataFrame that contains the following data:\n",
    "# name     Age  Gender\n",
    "# Alice    25   Female\n",
    "# Bob      30   Male \n",
    "# Calire   27   Female\n",
    "#then print the DataFrame"
   ]
  },
  {
   "cell_type": "code",
   "execution_count": 16,
   "id": "16a21325-7efa-4155-837b-96c1518878e3",
   "metadata": {},
   "outputs": [],
   "source": [
    "import pandas as pd "
   ]
  },
  {
   "cell_type": "code",
   "execution_count": 18,
   "id": "36a4c1cd-09d5-44be-b973-369fc1315a01",
   "metadata": {},
   "outputs": [],
   "source": [
    "data = {\n",
    "    'Name':['Alice','Bob','Calire'],\n",
    "    'Age':[25,30,27],\n",
    "    'Gender':['Female','Male','Female']\n",
    "}"
   ]
  },
  {
   "cell_type": "code",
   "execution_count": 19,
   "id": "30ab72f6-b3c0-4916-94d9-01e6c32c5d39",
   "metadata": {},
   "outputs": [],
   "source": [
    "dataframe = pd.DataFrame(data)"
   ]
  },
  {
   "cell_type": "code",
   "execution_count": 20,
   "id": "606bf734-929f-4393-b7f9-540994751fd7",
   "metadata": {},
   "outputs": [
    {
     "name": "stdout",
     "output_type": "stream",
     "text": [
      "     Name  Age  Gender\n",
      "0   Alice   25  Female\n",
      "1     Bob   30    Male\n",
      "2  Calire   27  Female\n"
     ]
    }
   ],
   "source": [
    "print(dataframe)"
   ]
  },
  {
   "cell_type": "code",
   "execution_count": 21,
   "id": "586521c8-3edb-41ae-9523-93e85cba08a7",
   "metadata": {},
   "outputs": [],
   "source": [
    "# What is DataFram in pandas and how is it different from pandas.series? Explain with an example."
   ]
  },
  {
   "cell_type": "code",
   "execution_count": 22,
   "id": "3b796cf3-f4e2-45aa-9c18-79c73904b345",
   "metadata": {},
   "outputs": [],
   "source": [
    "# Ans :- DataFram like collection of row and columns where we can store the in row and column formate like Sql table\n",
    "#       and the points come to series this is one dimensions array"
   ]
  },
  {
   "cell_type": "code",
   "execution_count": 23,
   "id": "53956593-0da1-4163-9884-ff8e514385ce",
   "metadata": {},
   "outputs": [],
   "source": [
    "# What are the common functions you can use to manipulate data in a pandas Dataframe?can you give an example of when you might use one of these function ?"
   ]
  },
  {
   "cell_type": "code",
   "execution_count": 27,
   "id": "39b47439-3bae-467d-8895-5fc3f850db09",
   "metadata": {},
   "outputs": [],
   "source": [
    "# Ans :- df['column_name'] or df.column_name:\n",
    "#     Select a specific column.\n",
    "# df.loc[row_label] or df.loc[row_label, column_label]: Select data by label.\n",
    "# df.iloc[row_index] or df.iloc[row_index, column_index]"
   ]
  },
  {
   "cell_type": "code",
   "execution_count": 28,
   "id": "f4c0d32b-9826-43d7-9f28-72341b6ab013",
   "metadata": {},
   "outputs": [],
   "source": [
    "# which of the following is mutable in nature Series ,DataFrame,Panel"
   ]
  },
  {
   "cell_type": "code",
   "execution_count": 29,
   "id": "4cad3e53-7185-4dad-a3ec-a707b7f400d9",
   "metadata": {},
   "outputs": [],
   "source": [
    "#Ans :- Series and DataFrame these both are mutable "
   ]
  },
  {
   "cell_type": "code",
   "execution_count": 30,
   "id": "5e541329-193e-41df-af07-5450b05fcecf",
   "metadata": {},
   "outputs": [],
   "source": [
    "# Create a DataFrame using multiple Series. Explain with an example ."
   ]
  },
  {
   "cell_type": "code",
   "execution_count": 31,
   "id": "93575381-4f1b-4ce0-8cee-d486b91ec741",
   "metadata": {},
   "outputs": [],
   "source": [
    "import pandas as pd"
   ]
  },
  {
   "cell_type": "code",
   "execution_count": 33,
   "id": "4d4da254-e342-46f0-bbff-c1196ffa12bc",
   "metadata": {},
   "outputs": [],
   "source": [
    "name = pd.Series(['Dilkhush','Ravi','Rohan'])\n",
    "age = pd.Series([19,20,30])\n",
    "gender = pd.Series(['male','male','male'])"
   ]
  },
  {
   "cell_type": "code",
   "execution_count": 34,
   "id": "58cfc419-f172-434b-ae0c-a45b427303d0",
   "metadata": {},
   "outputs": [],
   "source": [
    "data = {\n",
    "    'Name':name,\n",
    "    'Age':age,\n",
    "    'Gender':gender\n",
    "}"
   ]
  },
  {
   "cell_type": "code",
   "execution_count": 35,
   "id": "547c6764-47fc-4786-bed0-55ca1cc2f5c9",
   "metadata": {},
   "outputs": [],
   "source": [
    "df = pd.DataFrame(data)"
   ]
  },
  {
   "cell_type": "code",
   "execution_count": 36,
   "id": "c7a54b42-a4a7-46c3-a582-c3b83da52e33",
   "metadata": {},
   "outputs": [
    {
     "name": "stdout",
     "output_type": "stream",
     "text": [
      "       Name  Age Gender\n",
      "0  Dilkhush   19   male\n",
      "1      Ravi   20   male\n",
      "2     Rohan   30   male\n"
     ]
    }
   ],
   "source": [
    "print(df)"
   ]
  },
  {
   "cell_type": "code",
   "execution_count": null,
   "id": "fabb21a7-ba95-4785-ac34-336596403939",
   "metadata": {},
   "outputs": [],
   "source": []
  }
 ],
 "metadata": {
  "kernelspec": {
   "display_name": "Python 3 (ipykernel)",
   "language": "python",
   "name": "python3"
  },
  "language_info": {
   "codemirror_mode": {
    "name": "ipython",
    "version": 3
   },
   "file_extension": ".py",
   "mimetype": "text/x-python",
   "name": "python",
   "nbconvert_exporter": "python",
   "pygments_lexer": "ipython3",
   "version": "3.10.8"
  }
 },
 "nbformat": 4,
 "nbformat_minor": 5
}
